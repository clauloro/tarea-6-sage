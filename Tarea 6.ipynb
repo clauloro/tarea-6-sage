{
 "cells": [
  {
   "cell_type": "code",
   "execution_count": 4,
   "id": "16115b0f",
   "metadata": {},
   "outputs": [
    {
     "name": "stdout",
     "output_type": "stream",
     "text": [
      "-321/100\n"
     ]
    },
    {
     "name": "stderr",
     "output_type": "stream",
     "text": [
      "/var/folders/sn/w0x5xzx569s0gt374_5n145h0000gn/T/ipykernel_95095/2595215857.py:3: DeprecationWarning: sage.stats.basic_stats.mean is deprecated; use numpy.mean or numpy.nanmean instead\n",
      "See https://trac.sagemath.org/29662 for details.\n",
      "  media=mean(n)\n"
     ]
    }
   ],
   "source": [
    "from random import randint\n",
    "n=[randint(-100,100) for i in range(100)] \n",
    "media=mean(n)\n",
    "print(media)"
   ]
  },
  {
   "cell_type": "code",
   "execution_count": 7,
   "id": "bc18c420",
   "metadata": {},
   "outputs": [
    {
     "name": "stdout",
     "output_type": "stream",
     "text": [
      "mediana: 63.5000000000000\n",
      "moda: [61, 73]\n",
      "media: 65.6250000000000\n"
     ]
    },
    {
     "name": "stderr",
     "output_type": "stream",
     "text": [
      "/var/folders/sn/w0x5xzx569s0gt374_5n145h0000gn/T/ipykernel_95095/2392481030.py:2: DeprecationWarning: sage.stats.basic_stats.median is deprecated; use numpy.median or numpy.nanmedian instead\n",
      "See https://trac.sagemath.org/29662 for details.\n",
      "  mediana=median(medidas_estudiantes).n()\n",
      "/var/folders/sn/w0x5xzx569s0gt374_5n145h0000gn/T/ipykernel_95095/2392481030.py:3: DeprecationWarning: sage.stats.basic_stats.mode is deprecated; use scipy.stats.mode or statistics.mode instead\n",
      "See https://trac.sagemath.org/29662 for details.\n",
      "  moda=mode(medidas_estudiantes)\n",
      "/var/folders/sn/w0x5xzx569s0gt374_5n145h0000gn/T/ipykernel_95095/2392481030.py:4: DeprecationWarning: sage.stats.basic_stats.mean is deprecated; use numpy.mean or numpy.nanmean instead\n",
      "See https://trac.sagemath.org/29662 for details.\n",
      "  media=mean(medidas_estudiantes).n()\n"
     ]
    }
   ],
   "source": [
    "medidas_estudiantes=[73, 73, 59, 61, 65, 62, 71, 61]\n",
    "mediana=median(medidas_estudiantes).n()\n",
    "moda=mode(medidas_estudiantes)\n",
    "media=mean(medidas_estudiantes).n()\n",
    "print(\"mediana:\",mediana)\n",
    "print(\"moda:\",moda)\n",
    "print(\"media:\",media)\n"
   ]
  },
  {
   "cell_type": "code",
   "execution_count": 9,
   "id": "8b400cc7",
   "metadata": {},
   "outputs": [
    {
     "ename": "SyntaxError",
     "evalue": "invalid syntax. Perhaps you forgot a comma? (2868403502.py, line 3)",
     "output_type": "error",
     "traceback": [
      "\u001b[0;36m  Input \u001b[0;32mIn [9]\u001b[0;36m\u001b[0m\n\u001b[0;31m    print(\"desviacion tipica\" desviacion_tipica)\u001b[0m\n\u001b[0m          ^\u001b[0m\n\u001b[0;31mSyntaxError\u001b[0m\u001b[0;31m:\u001b[0m invalid syntax. Perhaps you forgot a comma?\n"
     ]
    }
   ],
   "source": [
    "altura=[73, 73, 59, 61, 65, 62, 71, 61]\n",
    "desviacion_tipica=std(altura).n()\n",
    "print(\"desviacion tipica\" desviacion_tipica)\n",
    "varianza=variance(alturas).n()\n",
    "print(\"Esta es la varianza\",varianza)"
   ]
  },
  {
   "cell_type": "code",
   "execution_count": 10,
   "id": "43e2f00a",
   "metadata": {},
   "outputs": [
    {
     "name": "stdout",
     "output_type": "stream",
     "text": [
      "rango: 14\n"
     ]
    }
   ],
   "source": [
    "altura=[73, 73, 59, 61, 65, 62, 71, 61]\n",
    "def rango (altura):\n",
    "    return max(altura)-min(altura)\n",
    "print(\"rango:\",rango(altura))"
   ]
  },
  {
   "cell_type": "code",
   "execution_count": null,
   "id": "b81f7cd3",
   "metadata": {},
   "outputs": [],
   "source": []
  }
 ],
 "metadata": {
  "kernelspec": {
   "display_name": "SageMath 9.7",
   "language": "sage",
   "name": "sagemath-9.7"
  },
  "language_info": {
   "codemirror_mode": {
    "name": "ipython",
    "version": 3
   },
   "file_extension": ".py",
   "mimetype": "text/x-python",
   "name": "python",
   "nbconvert_exporter": "python",
   "pygments_lexer": "ipython3",
   "version": "3.10.5"
  }
 },
 "nbformat": 4,
 "nbformat_minor": 5
}
